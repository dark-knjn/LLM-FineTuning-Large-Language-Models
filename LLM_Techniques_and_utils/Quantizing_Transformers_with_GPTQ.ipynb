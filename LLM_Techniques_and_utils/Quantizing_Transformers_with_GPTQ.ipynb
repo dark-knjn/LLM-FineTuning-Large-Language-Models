{
 "cells": [
  {
   "cell_type": "markdown",
   "metadata": {},
   "source": [
    "## Quantizing 🤗 Transformers models with the GPTQ method can be done in a only few lines after the Native support of GPTQ models in 🤗 Transformers\n",
    "\n",
    "Note that for large model like 175B param, at least 4 GPU-hours will be needed if one uses a large dataset (e.g. `\"c4\"``).\n",
    "\n",
    "And, many GPTQ models are already available on the Hugging Face Hub, which bypasses the need to quantize a model yourself in most use cases. Nevertheless, you can also quantize a model using your own dataset appropriate for the particular domain you are working on."
   ]
  },
  {
   "cell_type": "code",
   "execution_count": null,
   "metadata": {},
   "outputs": [],
   "source": [
    "# Quantizing 🤗 Transformers models with the GPTQ method\n",
    "\n",
    "from transformers import AutoModelForCausalLM, AutoTokenizer, GPTQConfig\n",
    "\n",
    "model_id = \"meta-llama/Llama-2-7b-hf\"\n",
    "tokenizer = AutoTokenizer.from_pretrained(model_id)\n",
    "\n",
    "quantization_config = GPTQConfig(bits=4, dataset = \"c4\", tokenizer=tokenizer)\n",
    "\n",
    "model = AutoModelForCausalLM.from_pretrained(model_id, device_map=\"auto\",\n",
    "                                    quantization_config=quantization_config)\n",
    "\n",
    "model.push_to_hub(\"username/Llama-2-7b-gptq-4bit\")\n",
    "tokenizer.push_to_hub(\"username/Llama-2-7b-gptq-4bit\")"
   ]
  },
  {
   "cell_type": "markdown",
   "metadata": {},
   "source": [
    "--------\n",
    "\n",
    "The most important line is the one calling `GPTQConfig`:\n",
    "\n",
    "Its first param bits (int) is the number of bits to quantize to, supported numbers are (2, 3, 4, 8).\n",
    "\n",
    "`dataset`: The dataset used for calibration. I would leave “c4“ which seems to yield reasonable results. Other datasets are supported according to the documentation.\n",
    "\n",
    "`tokenizer`: The tokenizer of Llama 2 7B that will be applied to c4.\n",
    "\n",
    "-----------------\n",
    "\n",
    "## There are two more key options that I did not use in the code below:\n",
    "\n",
    "`desc_act` : Whether to quantize columns in order of decreasing activation size. Setting it to False can significantly speed up inference but the perplexity may become slightly worse. If inference speed is not your concern, you should set desc_act to True.\n",
    "\n",
    "`disable_exllama` : Whether to use exllama backend. Only works with bits = 4.\n",
    "\n",
    "Now its `use_exllama` - bool, optional) — Whether to use exllama backend. Defaults to True if unset. Only works with bits = 4.\n",
    "\n",
    "https://huggingface.co/docs/transformers/v4.36.1/en/main_classes/quantization#transformers.GPTQConfig.use_exllama\n",
    "\n",
    "True means that the support of exllama is set to False. By default, exllama is used. If you plan to use the model on a configuration with a small VRAM that will split the model to multiple devices with device_map, you should set disable_exllama to True.\n",
    "\n",
    "\n"
   ]
  }
 ],
 "metadata": {
  "kernelspec": {
   "display_name": "py10env",
   "language": "python",
   "name": "python3"
  },
  "language_info": {
   "name": "python",
   "version": "3.10.13"
  }
 },
 "nbformat": 4,
 "nbformat_minor": 2
}
